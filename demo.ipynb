{
 "cells": [
  {
   "cell_type": "code",
   "execution_count": 1,
   "id": "c7268f05",
   "metadata": {},
   "outputs": [],
   "source": [
    "from src.c_country import C_Country\n",
    "from utils.hypergraph_generator import get_hypergraph\n",
    "\n",
    "\n",
    "import csv\n",
    "import json\n",
    "import numpy as np\n",
    "import pandas as pd\n",
    "import networkx as nx\n",
    "import random as rnd\n",
    "\n",
    "import seaborn as sn\n",
    "import matplotlib.pyplot as plt\n",
    "sn.set_theme(style=\"whitegrid\")\n",
    "\n",
    "import multiprocessing\n",
    "from subprocess import Popen, STDOUT, PIPE\n",
    "import copy\n",
    "import time"
   ]
  },
  {
   "cell_type": "code",
   "execution_count": 10,
   "id": "69b5f230",
   "metadata": {},
   "outputs": [
    {
     "name": "stdout",
     "output_type": "stream",
     "text": [
      "running time: 37.904765367507935\n"
     ]
    }
   ],
   "source": [
    "start = time.time()\n",
    "H=get_hypergraph('barabasi', args={'n' : 5000, 'm':1, 'distribution': 'uniform','size':4})\n",
    "print('running time: ' + str(time.time() - start))"
   ]
  },
  {
   "cell_type": "code",
   "execution_count": 11,
   "id": "0a345e2f",
   "metadata": {},
   "outputs": [],
   "source": [
    "betas=[0.01,0.05,0.1,0.15,0.2]"
   ]
  },
  {
   "cell_type": "code",
   "execution_count": 12,
   "id": "8a666a42",
   "metadata": {},
   "outputs": [],
   "source": [
    "args = {\n",
    "    \"--beta\": 0.2,\n",
    "    \"--seed\": 0,\n",
    "    \"--sigma\": 1.0, \n",
    "    \"--mu\": 0.2,\n",
    "    \"--max_sim\": 1000,\n",
    "    \"inf_agent_num\":5,\n",
    "}\n",
    "args[\"procnum\"] = 10\n",
    "args[\"simnum\"] = 5"
   ]
  },
  {
   "cell_type": "code",
   "execution_count": 13,
   "id": "d5a24907",
   "metadata": {},
   "outputs": [],
   "source": [
    "h=C_Country(H)\n",
    "node_num = h.node_num"
   ]
  },
  {
   "cell_type": "code",
   "execution_count": 14,
   "id": "892c5c29",
   "metadata": {},
   "outputs": [],
   "source": [
    "nodes = [node for node in H.nodes]"
   ]
  },
  {
   "cell_type": "code",
   "execution_count": 15,
   "id": "a3ae2f8d",
   "metadata": {
    "scrolled": true
   },
   "outputs": [
    {
     "name": "stdout",
     "output_type": "stream",
     "text": [
      " 25/25running time: 25.975918292999268\n"
     ]
    }
   ],
   "source": [
    "start = time.time()\n",
    "res = {}\n",
    "pool = multiprocessing.Pool(processes=args[\"procnum\"])\n",
    "manager = multiprocessing.Manager()\n",
    "lock = manager.Lock()\n",
    "str_h=h.get_str_hypergraph()\n",
    "\n",
    "job_count = manager.Array(\"i\", [0,len(betas)*args[\"simnum\"]])\n",
    "for beta in betas:\n",
    "    res[beta]=[]\n",
    "    for i in range(args[\"simnum\"]):\n",
    "        act_args = copy.copy(args)\n",
    "        act_args[\"--seed\"]=i\n",
    "        act_args[\"--beta\"]=beta\n",
    "        inf_nodes = np.random.choice(nodes, size = args['inf_agent_num'], replace = False)\n",
    "        history1 = pool.apply_async(C_Country.run, args =\n",
    "                       (act_args, str_h, node_num, job_count, lock,\n",
    "                        inf_nodes))\n",
    "        #history1 = hun.run(args, inf_area)\n",
    "        res[beta].append(history1)\n",
    "pool.close()\n",
    "pool.join()\n",
    "#print('') # After logging\n",
    "for beta in betas:\n",
    "    res[beta] = [t1.get() for t1 in res[beta]]\n",
    "print(' running time: ' + str(time.time() - start))"
   ]
  },
  {
   "cell_type": "code",
   "execution_count": null,
   "id": "984abe39",
   "metadata": {},
   "outputs": [],
   "source": []
  }
 ],
 "metadata": {
  "kernelspec": {
   "display_name": "Python 3 (ipykernel)",
   "language": "python",
   "name": "python3"
  },
  "language_info": {
   "codemirror_mode": {
    "name": "ipython",
    "version": 3
   },
   "file_extension": ".py",
   "mimetype": "text/x-python",
   "name": "python",
   "nbconvert_exporter": "python",
   "pygments_lexer": "ipython3",
   "version": "3.9.7"
  }
 },
 "nbformat": 4,
 "nbformat_minor": 5
}
